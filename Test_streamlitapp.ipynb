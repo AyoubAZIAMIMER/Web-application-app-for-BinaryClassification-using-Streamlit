{
  "nbformat": 4,
  "nbformat_minor": 0,
  "metadata": {
    "colab": {
      "provenance": []
    },
    "kernelspec": {
      "name": "python3",
      "display_name": "Python 3"
    },
    "language_info": {
      "name": "python"
    }
  },
  "cells": [
    {
      "cell_type": "code",
      "source": [
        "pip install streamlit pandas numpy scikit-learn"
      ],
      "metadata": {
        "id": "oT7u0ZO-jPVW",
        "colab": {
          "base_uri": "https://localhost:8080/"
        },
        "outputId": "08ec8059-13fa-4a06-e335-72ebed1c4ae2"
      },
      "execution_count": 52,
      "outputs": [
        {
          "output_type": "stream",
          "name": "stdout",
          "text": [
            "Requirement already satisfied: streamlit in /usr/local/lib/python3.10/dist-packages (1.33.0)\n",
            "Requirement already satisfied: pandas in /usr/local/lib/python3.10/dist-packages (2.0.3)\n",
            "Requirement already satisfied: numpy in /usr/local/lib/python3.10/dist-packages (1.25.2)\n",
            "Requirement already satisfied: scikit-learn in /usr/local/lib/python3.10/dist-packages (1.2.2)\n",
            "Requirement already satisfied: altair<6,>=4.0 in /usr/local/lib/python3.10/dist-packages (from streamlit) (4.2.2)\n",
            "Requirement already satisfied: blinker<2,>=1.0.0 in /usr/lib/python3/dist-packages (from streamlit) (1.4)\n",
            "Requirement already satisfied: cachetools<6,>=4.0 in /usr/local/lib/python3.10/dist-packages (from streamlit) (5.3.3)\n",
            "Requirement already satisfied: click<9,>=7.0 in /usr/local/lib/python3.10/dist-packages (from streamlit) (8.1.7)\n",
            "Requirement already satisfied: packaging<25,>=16.8 in /usr/local/lib/python3.10/dist-packages (from streamlit) (24.0)\n",
            "Requirement already satisfied: pillow<11,>=7.1.0 in /usr/local/lib/python3.10/dist-packages (from streamlit) (9.4.0)\n",
            "Requirement already satisfied: protobuf<5,>=3.20 in /usr/local/lib/python3.10/dist-packages (from streamlit) (3.20.3)\n",
            "Requirement already satisfied: pyarrow>=7.0 in /usr/local/lib/python3.10/dist-packages (from streamlit) (14.0.2)\n",
            "Requirement already satisfied: requests<3,>=2.27 in /usr/local/lib/python3.10/dist-packages (from streamlit) (2.31.0)\n",
            "Requirement already satisfied: rich<14,>=10.14.0 in /usr/local/lib/python3.10/dist-packages (from streamlit) (13.7.1)\n",
            "Requirement already satisfied: tenacity<9,>=8.1.0 in /usr/local/lib/python3.10/dist-packages (from streamlit) (8.2.3)\n",
            "Requirement already satisfied: toml<2,>=0.10.1 in /usr/local/lib/python3.10/dist-packages (from streamlit) (0.10.2)\n",
            "Requirement already satisfied: typing-extensions<5,>=4.3.0 in /usr/local/lib/python3.10/dist-packages (from streamlit) (4.11.0)\n",
            "Requirement already satisfied: gitpython!=3.1.19,<4,>=3.0.7 in /usr/local/lib/python3.10/dist-packages (from streamlit) (3.1.43)\n",
            "Requirement already satisfied: pydeck<1,>=0.8.0b4 in /usr/local/lib/python3.10/dist-packages (from streamlit) (0.8.1b0)\n",
            "Requirement already satisfied: tornado<7,>=6.0.3 in /usr/local/lib/python3.10/dist-packages (from streamlit) (6.3.3)\n",
            "Requirement already satisfied: watchdog>=2.1.5 in /usr/local/lib/python3.10/dist-packages (from streamlit) (4.0.0)\n",
            "Requirement already satisfied: python-dateutil>=2.8.2 in /usr/local/lib/python3.10/dist-packages (from pandas) (2.8.2)\n",
            "Requirement already satisfied: pytz>=2020.1 in /usr/local/lib/python3.10/dist-packages (from pandas) (2023.4)\n",
            "Requirement already satisfied: tzdata>=2022.1 in /usr/local/lib/python3.10/dist-packages (from pandas) (2024.1)\n",
            "Requirement already satisfied: scipy>=1.3.2 in /usr/local/lib/python3.10/dist-packages (from scikit-learn) (1.11.4)\n",
            "Requirement already satisfied: joblib>=1.1.1 in /usr/local/lib/python3.10/dist-packages (from scikit-learn) (1.4.0)\n",
            "Requirement already satisfied: threadpoolctl>=2.0.0 in /usr/local/lib/python3.10/dist-packages (from scikit-learn) (3.4.0)\n",
            "Requirement already satisfied: entrypoints in /usr/local/lib/python3.10/dist-packages (from altair<6,>=4.0->streamlit) (0.4)\n",
            "Requirement already satisfied: jinja2 in /usr/local/lib/python3.10/dist-packages (from altair<6,>=4.0->streamlit) (3.1.3)\n",
            "Requirement already satisfied: jsonschema>=3.0 in /usr/local/lib/python3.10/dist-packages (from altair<6,>=4.0->streamlit) (4.19.2)\n",
            "Requirement already satisfied: toolz in /usr/local/lib/python3.10/dist-packages (from altair<6,>=4.0->streamlit) (0.12.1)\n",
            "Requirement already satisfied: gitdb<5,>=4.0.1 in /usr/local/lib/python3.10/dist-packages (from gitpython!=3.1.19,<4,>=3.0.7->streamlit) (4.0.11)\n",
            "Requirement already satisfied: six>=1.5 in /usr/local/lib/python3.10/dist-packages (from python-dateutil>=2.8.2->pandas) (1.16.0)\n",
            "Requirement already satisfied: charset-normalizer<4,>=2 in /usr/local/lib/python3.10/dist-packages (from requests<3,>=2.27->streamlit) (3.3.2)\n",
            "Requirement already satisfied: idna<4,>=2.5 in /usr/local/lib/python3.10/dist-packages (from requests<3,>=2.27->streamlit) (3.7)\n",
            "Requirement already satisfied: urllib3<3,>=1.21.1 in /usr/local/lib/python3.10/dist-packages (from requests<3,>=2.27->streamlit) (2.0.7)\n",
            "Requirement already satisfied: certifi>=2017.4.17 in /usr/local/lib/python3.10/dist-packages (from requests<3,>=2.27->streamlit) (2024.2.2)\n",
            "Requirement already satisfied: markdown-it-py>=2.2.0 in /usr/local/lib/python3.10/dist-packages (from rich<14,>=10.14.0->streamlit) (3.0.0)\n",
            "Requirement already satisfied: pygments<3.0.0,>=2.13.0 in /usr/local/lib/python3.10/dist-packages (from rich<14,>=10.14.0->streamlit) (2.16.1)\n",
            "Requirement already satisfied: smmap<6,>=3.0.1 in /usr/local/lib/python3.10/dist-packages (from gitdb<5,>=4.0.1->gitpython!=3.1.19,<4,>=3.0.7->streamlit) (5.0.1)\n",
            "Requirement already satisfied: MarkupSafe>=2.0 in /usr/local/lib/python3.10/dist-packages (from jinja2->altair<6,>=4.0->streamlit) (2.1.5)\n",
            "Requirement already satisfied: attrs>=22.2.0 in /usr/local/lib/python3.10/dist-packages (from jsonschema>=3.0->altair<6,>=4.0->streamlit) (23.2.0)\n",
            "Requirement already satisfied: jsonschema-specifications>=2023.03.6 in /usr/local/lib/python3.10/dist-packages (from jsonschema>=3.0->altair<6,>=4.0->streamlit) (2023.12.1)\n",
            "Requirement already satisfied: referencing>=0.28.4 in /usr/local/lib/python3.10/dist-packages (from jsonschema>=3.0->altair<6,>=4.0->streamlit) (0.34.0)\n",
            "Requirement already satisfied: rpds-py>=0.7.1 in /usr/local/lib/python3.10/dist-packages (from jsonschema>=3.0->altair<6,>=4.0->streamlit) (0.18.0)\n",
            "Requirement already satisfied: mdurl~=0.1 in /usr/local/lib/python3.10/dist-packages (from markdown-it-py>=2.2.0->rich<14,>=10.14.0->streamlit) (0.1.2)\n"
          ]
        }
      ]
    },
    {
      "cell_type": "code",
      "execution_count": 53,
      "metadata": {
        "id": "GUTfe3WziQz4",
        "colab": {
          "base_uri": "https://localhost:8080/"
        },
        "outputId": "0f0eabe8-1d75-4c90-898a-0337816780dc"
      },
      "outputs": [
        {
          "output_type": "stream",
          "name": "stdout",
          "text": [
            "Overwriting app.py\n"
          ]
        }
      ],
      "source": [
        "%%writefile app.py\n",
        "import streamlit as st\n",
        "import pandas as pd\n",
        "import numpy as np\n",
        "from sklearn.impute import SimpleImputer\n",
        "from sklearn.svm import SVC\n",
        "from sklearn.linear_model import LogisticRegression\n",
        "from sklearn.ensemble import RandomForestClassifier\n",
        "from sklearn.preprocessing import LabelEncoder\n",
        "from sklearn.model_selection import train_test_split\n",
        "from sklearn.metrics import ConfusionMatrixDisplay, RocCurveDisplay, PrecisionRecallDisplay\n",
        "from sklearn.metrics import precision_score, recall_score\n",
        "\n",
        "st.set_option('deprecation.showPyplotGlobalUse', False)\n",
        "\n",
        "def main():\n",
        "    st.title(\"Binary Classification Web App\")\n",
        "    st.sidebar.title(\"Classification\")\n",
        "    st.markdown(\"Are your mushrooms edible or poisonous ? 🍄🍄🍄\")\n",
        "    st.sidebar.markdown(\"-----🍄🍄🍄-----\")\n",
        "\n",
        "    @st.cache_data(persist=True)\n",
        "    def load_data():\n",
        "        data = pd.read_csv('/primary_data.csv', delimiter= \";\")\n",
        "        label = LabelEncoder()\n",
        "        imp = SimpleImputer(strategy=\"most_frequent\")\n",
        "        imp.fit_transform(df)\n",
        "        for col in data.columns:\n",
        "            data[col] = label.fit_transform(data[col])\n",
        "        return data\n",
        "\n",
        "    @st.cache_data(persist=True)\n",
        "    def split(df):\n",
        "        y= df[\"class\"]\n",
        "        x= df.drop(df.columns[0], axis=1)\n",
        "        x_train, x_test, y_train, y_test = train_test_split(x, y, test_size=0.3, random_state=42)\n",
        "        return x_train, x_test, y_train, y_test\n",
        "\n",
        "    def plot_metrics(metrics_list):\n",
        "        if 'Confusion Matrix' in metrics_list:\n",
        "            st.subheader(\"Confusion Matrix\")\n",
        "            ConfusionMatrixDisplay.from_estimator(model, x_test, y_test, display_labels=class_names)\n",
        "            st.pyplot()\n",
        "\n",
        "        if 'ROC Curve' in metrics_list:\n",
        "            st.subheader(\"ROC Curve\")\n",
        "            RocCurveDisplay.from_estimator(model, x_test, y_test)\n",
        "            st.pyplot()\n",
        "\n",
        "        if 'Precision-Recall Curve' in metrics_list:\n",
        "            st.subheader(\"Precision-Recall Curve\")\n",
        "            PrecisionRecallDisplay.from_estimator(model, x_test, y_test)\n",
        "            st.pyplot()\n",
        "\n",
        "\n",
        "    df = load_data()\n",
        "    x_train, x_test, y_train, y_test = split(df)\n",
        "    x_train = x_train.copy()\n",
        "    y_train = y_train.copy()\n",
        "    x_test = x_train.copy()\n",
        "    y_test = y_train.copy()\n",
        "\n",
        "\n",
        "    class_names = ['edible', 'poisonous']\n",
        "    st.sidebar.subheader(\"Choose a Classifier\")\n",
        "    classifier = st.sidebar.selectbox(\"Classifier\", (\"Support Vector Machine (SVM)\", \"Logistic Regression\", \"Random Forest\"))\n",
        "\n",
        "    if classifier == 'Support Vector Machine (SVM)':\n",
        "        st.sidebar.subheader(\"Model Hyperparameters\")\n",
        "        C = st.sidebar.number_input(\"C (Regularization Parameter)\", 0.01, 10.0, step=0.01, key='C')\n",
        "        kernel = st.sidebar.radio(\"Kernel\", (\"rbf\", \"linear\"), key='kernel')\n",
        "        gamma = st.sidebar.radio(\"Gamma (Kernel Coefficient)\", (\"scale\", \"auto\"), key='gamma')\n",
        "\n",
        "        metrics = st.sidebar.multiselect(\"What metrics to plot ?\", ('Confusion Matrix', 'ROC Curve', 'Precision-Recall Curve'))\n",
        "\n",
        "        if st.sidebar.button(\"Classify\", key='classify'):\n",
        "            st.subheader('Support Vector Machine (SVM) Results')\n",
        "            model = SVC(C=C, kernel=kernel, gamma=gamma)\n",
        "            model.fit(x_train, y_train)\n",
        "            y_pred = model.predict(x_test)\n",
        "            accuracy = model.score(x_test, y_test)\n",
        "            precision = precision_score(y_test, y_pred, labels=class_names)\n",
        "            recall = recall_score(y_test, y_pred, labels=class_names)\n",
        "\n",
        "            rounded_accuracy = round(accuracy, 2)\n",
        "            st.write(\"Accuracy: \", rounded_accuracy)\n",
        "            rounded_pecision = round(precision, 2)\n",
        "            st.write(\"Precision: \", rounded_pecision)\n",
        "            rounded_recall = round(recall, 2)\n",
        "            st.write(\"Recall: \", rounded_recall)\n",
        "            plot_metrics(metrics)\n",
        "\n",
        "    if classifier == 'Logistic Regression':\n",
        "        st.sidebar.subheader(\"Model Hyperparameters\")\n",
        "        C = st.sidebar.number_input(\"C (Regularization Parameter)\", 0.01, 10.0, step=0.01, key='C_LR')\n",
        "        max_iter = st.sidebar.slider(\"Maximum number of iterations\", 100, 500, key='max_iter')\n",
        "\n",
        "        metrics = st.sidebar.multiselect(\"What metrics to plot ?\", ('Confusion Matrix', 'ROC Curve', 'Precision-Recall Curve'))\n",
        "\n",
        "        if st.sidebar.button(\"Classify\", key='classify'):\n",
        "            st.subheader('Logistic Regression Results')\n",
        "            model = LogisticRegression(C=C, max_iter=max_iter)\n",
        "            model.fit(x_train, y_train)\n",
        "            accuracy = model.score(x_test, y_test)\n",
        "            y_pred = model.predict(x_test)\n",
        "            accuracy = model.score(x_test, y_test)\n",
        "            precision = precision_score(y_test, y_pred, labels=class_names)\n",
        "            recall = recall_score(y_test, y_pred, labels=class_names)\n",
        "\n",
        "            rounded_accuracy = round(accuracy, 2)\n",
        "            st.write(\"Accuracy: \", rounded_accuracy)\n",
        "            rounded_pecision = round(precision, 2)\n",
        "            st.write(\"Precision: \", rounded_pecision)\n",
        "            rounded_recall = round(recall, 2)\n",
        "            st.write(\"Recall: \", rounded_recall)\n",
        "            plot_metrics(metrics)\n",
        "\n",
        "\n",
        "    if classifier == 'Random Forest':\n",
        "        st.sidebar.subheader(\"Model Hyperparameters\")\n",
        "        n_estimators = st.sidebar.number_input(\"The number of trees in the forest\", 100, 5000, step=10, key='n_estimators')\n",
        "        max_depth = st.sidebar.number_input(\"The maximum depth of the tree\", 1, 20, step=1, key='max_depth')\n",
        "        bootstrap = st.sidebar.radio(\"Bootsrap samples when building trees\", (True, False), key='bootstrap')\n",
        "\n",
        "\n",
        "        metrics = st.sidebar.multiselect(\"What metrics to plot ?\", ('Confusion Matrix', 'ROC Curve', 'Precision-Recall Curve'))\n",
        "\n",
        "        if st.sidebar.button(\"Classify\", key='classify'):\n",
        "            st.subheader('Random Forest Results')\n",
        "            model = RandomForestClassifier(n_estimators=n_estimators, max_depth=max_depth, bootstrap=bootstrap, n_jobs=-1)\n",
        "            model.fit(x_train, y_train)\n",
        "            accuracy = model.score(x_test, y_test)\n",
        "            y_pred = model.predict(x_test)\n",
        "            accuracy = model.score(x_test, y_test)\n",
        "            precision = precision_score(y_test, y_pred, labels=class_names)\n",
        "            recall = recall_score(y_test, y_pred, labels=class_names)\n",
        "\n",
        "            rounded_accuracy = round(accuracy, 2)\n",
        "            st.write(\"Accuracy: \", rounded_accuracy)\n",
        "            rounded_pecision = round(precision, 2)\n",
        "            st.write(\"Precision: \", rounded_pecision)\n",
        "            rounded_recall = round(recall, 2)\n",
        "            st.write(\"Recall: \", rounded_recall)\n",
        "            plot_metrics(metrics)\n",
        "\n",
        "\n",
        "\n",
        "\n",
        "\n",
        "\n",
        "\n",
        "\n",
        "\n",
        "\n",
        "\n",
        "    if st.sidebar.checkbox(\"Show raw data\", False):\n",
        "        st.subheader(\"Mushroom Dataset Information\")\n",
        "        st.markdown(\"This data set includes descriptions of hypothetical samples corresponding to 23 species of gilled mushrooms in the Agaricus and Lepiota Family (pp. 500-525).  Each species is identified as definitely edible, definitely poisonous, or of unknown edibility and not recommended.  This latter class was combined with the poisonous one.  The Guide clearly states that there is no simple rule for determining the edibility of a mushroom; no rule like ``leaflets three, let it be'' for Poisonous Oak and Ivy.\")\n",
        "        st.subheader(\"Has Missing Values ?\")\n",
        "        st.markdown(\"Yes\")\n",
        "        st.subheader(\"Preview on the mushrooms dataset\")\n",
        "        st.write(df)\n",
        "\n",
        "\n",
        "\n",
        "\n",
        "\n",
        "if __name__ == '__main__':\n",
        "    main()\n",
        "\n",
        "\n"
      ]
    },
    {
      "cell_type": "code",
      "source": [
        "!npm install localtunnel"
      ],
      "metadata": {
        "id": "XWvmCXP1j6zL",
        "colab": {
          "base_uri": "https://localhost:8080/"
        },
        "outputId": "5915e576-d85d-43d4-b214-5f7d474efb64"
      },
      "execution_count": 54,
      "outputs": [
        {
          "output_type": "stream",
          "name": "stdout",
          "text": [
            "\u001b[K\u001b[?25h\u001b[37;40mnpm\u001b[0m \u001b[0m\u001b[30;43mWARN\u001b[0m \u001b[0m\u001b[35msaveError\u001b[0m ENOENT: no such file or directory, open '/content/package.json'\n",
            "\u001b[0m\u001b[37;40mnpm\u001b[0m \u001b[0m\u001b[30;43mWARN\u001b[0m \u001b[0m\u001b[35menoent\u001b[0m ENOENT: no such file or directory, open '/content/package.json'\n",
            "\u001b[0m\u001b[37;40mnpm\u001b[0m \u001b[0m\u001b[30;43mWARN\u001b[0m\u001b[35m\u001b[0m content No description\n",
            "\u001b[0m\u001b[37;40mnpm\u001b[0m \u001b[0m\u001b[30;43mWARN\u001b[0m\u001b[35m\u001b[0m content No repository field.\n",
            "\u001b[0m\u001b[37;40mnpm\u001b[0m \u001b[0m\u001b[30;43mWARN\u001b[0m\u001b[35m\u001b[0m content No README data\n",
            "\u001b[0m\u001b[37;40mnpm\u001b[0m \u001b[0m\u001b[30;43mWARN\u001b[0m\u001b[35m\u001b[0m content No license field.\n",
            "\u001b[0m\n",
            "+ localtunnel@2.0.2\n",
            "updated 1 package and audited 36 packages in 0.928s\n",
            "\n",
            "3 packages are looking for funding\n",
            "  run `npm fund` for details\n",
            "\n",
            "found 2 \u001b[93mmoderate\u001b[0m severity vulnerabilities\n",
            "  run `npm audit fix` to fix them, or `npm audit` for details\n",
            "\u001b[K\u001b[?25h"
          ]
        }
      ]
    },
    {
      "cell_type": "code",
      "source": [
        "import urllib\n",
        "print(\"Password/Enpoint IP for localtunnel is:\",urllib.request.urlopen('https://ipv4.icanhazip.com').read().decode('utf8').strip(\"\\n\"))"
      ],
      "metadata": {
        "id": "Ql2_OjfDooo7",
        "colab": {
          "base_uri": "https://localhost:8080/"
        },
        "outputId": "252257bd-3747-4fd8-a149-8fa3956a687b"
      },
      "execution_count": 55,
      "outputs": [
        {
          "output_type": "stream",
          "name": "stdout",
          "text": [
            "Password/Enpoint IP for localtunnel is: 35.194.141.115\n"
          ]
        }
      ]
    },
    {
      "cell_type": "code",
      "source": [
        "!streamlit run app.py &>/content/logs.txt &"
      ],
      "metadata": {
        "id": "vwnP1p4_lbNI"
      },
      "execution_count": 56,
      "outputs": []
    },
    {
      "cell_type": "code",
      "source": [
        "!npx localtunnel --port 8501"
      ],
      "metadata": {
        "colab": {
          "base_uri": "https://localhost:8080/"
        },
        "id": "2bgOJv82li4f",
        "outputId": "5ab75d89-9923-4946-f3e1-abbc2ca6d035"
      },
      "execution_count": 57,
      "outputs": [
        {
          "output_type": "stream",
          "name": "stdout",
          "text": [
            "\u001b[K\u001b[?25hnpx: installed 22 in 3.019s\n",
            "your url is: https://tidy-socks-pump.loca.lt\n",
            "^C\n"
          ]
        }
      ]
    }
  ]
}